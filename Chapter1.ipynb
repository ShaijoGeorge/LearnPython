{
  "nbformat": 4,
  "nbformat_minor": 0,
  "metadata": {
    "colab": {
      "provenance": []
    },
    "kernelspec": {
      "name": "python3",
      "display_name": "Python 3"
    },
    "language_info": {
      "name": "python"
    }
  },
  "cells": [
    {
      "cell_type": "code",
      "execution_count": 1,
      "metadata": {
        "id": "Q7-1ytFvQDoD"
      },
      "outputs": [],
      "source": [
        "#TYPE CONVERSION"
      ]
    },
    {
      "cell_type": "code",
      "source": [
        "#implicit Type Coversion"
      ],
      "metadata": {
        "id": "UBhKjpQVQPID"
      },
      "execution_count": 2,
      "outputs": []
    },
    {
      "cell_type": "code",
      "source": [
        "num_integer=123\n",
        "num_float=1.23"
      ],
      "metadata": {
        "id": "3Gx7MmukQVd0"
      },
      "execution_count": 3,
      "outputs": []
    },
    {
      "cell_type": "code",
      "source": [
        "sum= num_integer + num_float\n",
        "print(sum)"
      ],
      "metadata": {
        "colab": {
          "base_uri": "https://localhost:8080/"
        },
        "id": "YybHknCIQeTf",
        "outputId": "18618ea4-3749-4843-81d3-900f23db8026"
      },
      "execution_count": 4,
      "outputs": [
        {
          "output_type": "stream",
          "name": "stdout",
          "text": [
            "124.23\n"
          ]
        }
      ]
    },
    {
      "cell_type": "code",
      "source": [
        "#print type of variable using type() function\n",
        "print(\"Type of a:\",type(sum))"
      ],
      "metadata": {
        "colab": {
          "base_uri": "https://localhost:8080/"
        },
        "id": "LoA-bZweQppA",
        "outputId": "3a697c39-5c5a-4582-fea1-f148a8af3cf0"
      },
      "execution_count": 5,
      "outputs": [
        {
          "output_type": "stream",
          "name": "stdout",
          "text": [
            "Type of a: <class 'float'>\n"
          ]
        }
      ]
    },
    {
      "cell_type": "code",
      "source": [
        "#explicit Type Conversion"
      ],
      "metadata": {
        "id": "BqYV4WmoRLYg"
      },
      "execution_count": 6,
      "outputs": []
    },
    {
      "cell_type": "code",
      "source": [
        "float_num=1.734\n",
        "integer_num=int(float_num)\n",
        "print(integer_num)\n",
        "print(type(integer_num))"
      ],
      "metadata": {
        "colab": {
          "base_uri": "https://localhost:8080/"
        },
        "id": "cWNpCKgjRWKe",
        "outputId": "2403cf34-47b2-4ac7-dd29-ec2b53014f02"
      },
      "execution_count": 7,
      "outputs": [
        {
          "output_type": "stream",
          "name": "stdout",
          "text": [
            "1\n",
            "<class 'int'>\n"
          ]
        }
      ]
    },
    {
      "cell_type": "code",
      "source": [
        "#String to int and float\n",
        "a='53'\n",
        "integer_num=int(a)\n",
        "float_num=float(a)\n",
        "\n",
        "print('integer_num:',integer_num)\n",
        "print('float_num:',float_num)"
      ],
      "metadata": {
        "colab": {
          "base_uri": "https://localhost:8080/"
        },
        "id": "M2ygRy0eRzEj",
        "outputId": "140d5706-659d-44dc-f0ce-53794aa337bd"
      },
      "execution_count": 8,
      "outputs": [
        {
          "output_type": "stream",
          "name": "stdout",
          "text": [
            "integer_num: 53\n",
            "float_num: 53.0\n"
          ]
        }
      ]
    },
    {
      "cell_type": "code",
      "source": [
        "#int and float to string\n",
        "\n",
        "a=80\n",
        "b=80.99\n",
        "\n",
        "str_a=str(a)\n",
        "str_b=str(b)\n",
        "\n",
        "print(str_a)\n",
        "print(type(str_a))\n",
        "\n",
        "print(str_b)\n",
        "print(type(str_b))"
      ],
      "metadata": {
        "colab": {
          "base_uri": "https://localhost:8080/"
        },
        "id": "4Nk9u2hVSiBB",
        "outputId": "40647f3e-6f9f-49bd-9cfb-fa26ceb38b38"
      },
      "execution_count": 9,
      "outputs": [
        {
          "output_type": "stream",
          "name": "stdout",
          "text": [
            "80\n",
            "<class 'str'>\n",
            "80.99\n",
            "<class 'str'>\n"
          ]
        }
      ]
    },
    {
      "cell_type": "code",
      "source": [
        "#error during Type Conversion\n",
        "\n",
        "a='hello'\n",
        "integer_num=int(a)"
      ],
      "metadata": {
        "colab": {
          "base_uri": "https://localhost:8080/",
          "height": 200
        },
        "id": "lXp5xnk4TeeI",
        "outputId": "f3738adb-85fe-4d63-c5d8-c38489bd2000"
      },
      "execution_count": 10,
      "outputs": [
        {
          "output_type": "error",
          "ename": "ValueError",
          "evalue": "ignored",
          "traceback": [
            "\u001b[0;31m---------------------------------------------------------------------------\u001b[0m",
            "\u001b[0;31mValueError\u001b[0m                                Traceback (most recent call last)",
            "\u001b[0;32m<ipython-input-10-7019f02db71c>\u001b[0m in \u001b[0;36m<cell line: 4>\u001b[0;34m()\u001b[0m\n\u001b[1;32m      2\u001b[0m \u001b[0;34m\u001b[0m\u001b[0m\n\u001b[1;32m      3\u001b[0m \u001b[0ma\u001b[0m\u001b[0;34m=\u001b[0m\u001b[0;34m'hello'\u001b[0m\u001b[0;34m\u001b[0m\u001b[0;34m\u001b[0m\u001b[0m\n\u001b[0;32m----> 4\u001b[0;31m \u001b[0minteger_num\u001b[0m\u001b[0;34m=\u001b[0m\u001b[0mint\u001b[0m\u001b[0;34m(\u001b[0m\u001b[0ma\u001b[0m\u001b[0;34m)\u001b[0m\u001b[0;34m\u001b[0m\u001b[0;34m\u001b[0m\u001b[0m\n\u001b[0m",
            "\u001b[0;31mValueError\u001b[0m: invalid literal for int() with base 10: 'hello'"
          ]
        }
      ]
    },
    {
      "cell_type": "code",
      "source": [
        "#Loss of information during conversion\n",
        "\n",
        "float_num=5.67\n",
        "integer_number=int(float_num)\n",
        "\n",
        "print(\"float_num:\",float_num)\n",
        "print(\"integer_num:\",integer_number)"
      ],
      "metadata": {
        "colab": {
          "base_uri": "https://localhost:8080/"
        },
        "id": "u-7m78l7TyJ7",
        "outputId": "e64136d7-a685-4a54-84ba-a2eb8b48f79a"
      },
      "execution_count": 12,
      "outputs": [
        {
          "output_type": "stream",
          "name": "stdout",
          "text": [
            "float_num: 5.67\n",
            "integer_num: 5\n"
          ]
        }
      ]
    },
    {
      "cell_type": "code",
      "source": [
        "#ASSIGNMENT OPERATOR"
      ],
      "metadata": {
        "id": "lNDh4nPrUrkb"
      },
      "execution_count": 13,
      "outputs": []
    },
    {
      "cell_type": "code",
      "source": [
        "# '+='\n",
        "\n",
        "x=10\n",
        "x+=5\n",
        "\n",
        "print(x)"
      ],
      "metadata": {
        "colab": {
          "base_uri": "https://localhost:8080/"
        },
        "id": "CUUUP8ayVR_7",
        "outputId": "a0669300-4dc8-4c37-bce3-c7207e30b2a9"
      },
      "execution_count": 14,
      "outputs": [
        {
          "output_type": "stream",
          "name": "stdout",
          "text": [
            "15\n"
          ]
        }
      ]
    },
    {
      "cell_type": "code",
      "source": [
        "# '//='\n",
        "\n",
        "x=10\n",
        "x//=4\n",
        "\n",
        "print(x)"
      ],
      "metadata": {
        "colab": {
          "base_uri": "https://localhost:8080/"
        },
        "id": "2pC8cpckVhSN",
        "outputId": "a039c24d-8ba6-4411-f996-f7f10fe1ea92"
      },
      "execution_count": 15,
      "outputs": [
        {
          "output_type": "stream",
          "name": "stdout",
          "text": [
            "2\n"
          ]
        }
      ]
    },
    {
      "cell_type": "code",
      "source": [
        "#OPERATOR PRECEDENCE\n",
        "\n",
        "print(10-4*2)"
      ],
      "metadata": {
        "colab": {
          "base_uri": "https://localhost:8080/"
        },
        "id": "ClNRLZzlVuWC",
        "outputId": "56de6cda-b8b2-4a9d-ae1a-53ab928ca811"
      },
      "execution_count": 16,
      "outputs": [
        {
          "output_type": "stream",
          "name": "stdout",
          "text": [
            "2\n"
          ]
        }
      ]
    },
    {
      "cell_type": "code",
      "source": [
        "#The output of the above example will be 2, not 12.\n",
        "#It's because the order operator precedence of * is higher than -. Meaning, *operation is carried out before -.\n",
        "#This is known as OPERATOR PRECEDENCE. It guides the order in which th operation is carried out."
      ],
      "metadata": {
        "id": "ZxkqTG2uV_Gm"
      },
      "execution_count": 17,
      "outputs": []
    },
    {
      "cell_type": "code",
      "source": [
        "#The operator precedence in python is listed below from higher order  to lower order.\n",
        "# () > ** > +x,-x > *,/,//,% > +,-"
      ],
      "metadata": {
        "id": "Gjj6A-YgW9m5"
      },
      "execution_count": 18,
      "outputs": []
    },
    {
      "cell_type": "code",
      "source": [
        "str1='abc'\n",
        "print(str1*3)"
      ],
      "metadata": {
        "colab": {
          "base_uri": "https://localhost:8080/"
        },
        "id": "qXKlMf4mXtpn",
        "outputId": "ad27e061-d232-4904-ef55-cb39ac4cc154"
      },
      "execution_count": 19,
      "outputs": [
        {
          "output_type": "stream",
          "name": "stdout",
          "text": [
            "abcabcabc\n"
          ]
        }
      ]
    },
    {
      "cell_type": "code",
      "source": [
        "print((10-4)*2-1)"
      ],
      "metadata": {
        "colab": {
          "base_uri": "https://localhost:8080/"
        },
        "id": "WKfKmTTFYGMT",
        "outputId": "98dd86e1-be71-4737-e851-da33e72e1dc0"
      },
      "execution_count": 20,
      "outputs": [
        {
          "output_type": "stream",
          "name": "stdout",
          "text": [
            "11\n"
          ]
        }
      ]
    },
    {
      "cell_type": "code",
      "source": [],
      "metadata": {
        "id": "vWGlimrkZCR7"
      },
      "execution_count": null,
      "outputs": []
    }
  ]
}